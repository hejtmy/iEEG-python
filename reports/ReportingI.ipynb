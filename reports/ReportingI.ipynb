{
 "cells": [
  {
   "cell_type": "code",
   "execution_count": 3,
   "metadata": {
    "collapsed": true
   },
   "outputs": [],
   "source": [
    "import mne\n",
    "import numpy as np\n",
    "\n",
    "from functions import mne_prepping as mneprep\n",
    "from functions import mne_helpers as mnehelp\n",
    "from mne.time_frequency import tfr_multitaper, tfr_stockwell, tfr_morlet"
   ]
  },
  {
   "cell_type": "code",
   "execution_count": 4,
   "metadata": {},
   "outputs": [],
   "source": [
    "path = \"D:\\\\IntracranialElectrodes\\\\Data\\\\p83\\\\UTAlloEgo\\\\EEG\\\\Preprocessed\\\\prep_perHeadbox_250.mat\"\n",
    "path_events = \"D:/IntracranialElectrodes/Data/p83/UTAlloEgo/experiment_data/p83_ut.csv\""
   ]
  },
  {
   "cell_type": "code",
   "execution_count": null,
   "metadata": {},
   "outputs": [],
   "source": [
    "FREQUENCY = 250"
   ]
  },
  {
   "cell_type": "code",
   "execution_count": null,
   "metadata": {},
   "outputs": [],
   "source": [
    "raw = mneprep.load_raw(path, FREQUENCY)\n",
    "mne_events, mapp = mneprep.load_events(path_events, FREQUENCY)"
   ]
  },
  {
   "cell_type": "code",
   "execution_count": null,
   "metadata": {},
   "outputs": [],
   "source": [
    ""
   ]
  }
 ],
 "metadata": {
  "kernelspec": {
   "display_name": "Python 2",
   "language": "python",
   "name": "python2"
  },
  "language_info": {
   "codemirror_mode": {
    "name": "ipython",
    "version": 2.0
   },
   "file_extension": ".py",
   "mimetype": "text/x-python",
   "name": "python",
   "nbconvert_exporter": "python",
   "pygments_lexer": "ipython2",
   "version": "2.7.6"
  }
 },
 "nbformat": 4,
 "nbformat_minor": 0
}