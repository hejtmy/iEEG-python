{
 "cells": [
  {
   "cell_type": "code",
   "execution_count": null,
   "metadata": {
    "collapsed": true
   },
   "outputs": [],
   "source": [
    "import mne\n",
    "import numpy as np\n",
    "\n",
    "from functions import mne_prepping as mneprep\n",
    "from functions import mne_helpers as mnehelp\n",
    "from mne.time_frequency import tfr_multitaper, tfr_stockwell, tfr_morlet"
   ]
  },
  {
   "cell_type": "code",
   "execution_count": null,
   "metadata": {},
   "outputs": [],
   "source": [
    "path_perHead = \"D:\\\\IntracranialElectrodes\\\\Data\\\\p126\\\\BVAAlloEgo\\\\EEG\\\\Preprocessed\\\\prep_perHeadbox_250.mat\"\n",
    "path_bip = \"D:\\\\IntracranialElectrodes\\\\Data\\\\p126\\\\BVAAlloEgo\\\\EEG\\\\Preprocessed\\\\prep_bipolar_250.mat\"\n",
    "path_events = \"D:\\\\IntracranialElectrodes\\\\Data\\\\p126\\\\BVAAlloEgo\\\\experiment_data\\\\p126_BVA.csv\""
   ]
  },
  {
   "cell_type": "code",
   "execution_count": null,
   "metadata": {},
   "outputs": [],
   "source": [
    "FREQUENCY = 250"
   ]
  },
  {
   "cell_type": "code",
   "execution_count": null,
   "metadata": {},
   "outputs": [],
   "source": [
    "raw = mneprep.load_raw(path, FREQUENCY)\n",
    "mne_events, mapp = mneprep.load_events(path_events, FREQUENCY)"
   ]
  }
 ],
 "metadata": {
  "kernelspec": {
   "display_name": "Python 2",
   "language": "python",
   "name": "python2"
  },
  "language_info": {
   "codemirror_mode": {
    "name": "ipython",
    "version": 2.0
   },
   "file_extension": ".py",
   "mimetype": "text/x-python",
   "name": "python",
   "nbconvert_exporter": "python",
   "pygments_lexer": "ipython2",
   "version": "2.7.6"
  }
 },
 "nbformat": 4,
 "nbformat_minor": 0
}