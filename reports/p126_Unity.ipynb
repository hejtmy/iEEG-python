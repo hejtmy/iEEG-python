{
 "cells": [
  {
   "cell_type": "code",
   "execution_count": null,
   "metadata": {
    "collapsed": true
   },
   "outputs": [],
   "source": [
    "# Allows loading functions form different path than in which the python kernel starts- IPython starts at the notebook folder\n",
    "\n",
    "import os\n",
    "import sys\n",
    "module_path = os.path.abspath(os.path.join('..'))\n",
    "if module_path not in sys.path:\n",
    "    sys.path.append(module_path)"
   ]
  },
  {
   "cell_type": "code",
   "execution_count": 1,
   "metadata": {
    "collapsed": true
   },
   "outputs": [],
   "source": [
    "import mne\n",
    "import numpy as np\n",
    "\n",
    "from functions import mne_prepping as mneprep\n",
    "from functions import mne_helpers as mnehelp\n",
    "from mne.time_frequency import tfr_multitaper, tfr_stockwell, tfr_morlet"
   ]
  },
  {
   "cell_type": "code",
   "execution_count": null,
   "metadata": {
    "collapsed": true
   },
   "outputs": [],
   "source": [
    "path_perhead = \"D:\\\\IntracranialElectrodes\\\\Data\\\\p126\\\\UnityAlloEgo\\\\EEG\\\\Preprocessed\\\\prep_perHeadbox_250.mat\"\n",
    "path_bip = \"D:\\\\IntracranialElectrodes\\\\Data\\\\p126\\\\UnityAlloEgo\\\\EEG\\\\Preprocessed\\\\prep_bipolar_250.mat\"\n",
    "path_events = \"D:\\\\IntracranialElectrodes\\\\Data\\\\p126\\\\UnityAlloEgo\\\\experiment_data\\\\p126_unity.csv\""
   ]
  },
  {
   "cell_type": "code",
   "execution_count": null,
   "metadata": {
    "collapsed": true
   },
   "outputs": [],
   "source": [
    "FREQUENCY = 250"
   ]
  },
  {
   "cell_type": "code",
   "execution_count": null,
   "metadata": {
    "collapsed": true
   },
   "outputs": [],
   "source": [
    "raw_perhead = mneprep.load_raw(path_perhead, FREQUENCY)\n",
    "raw_bip = mneprep.load_raw(path_bip, FREQUENCY)"
   ]
  },
  {
   "cell_type": "code",
   "execution_count": null,
   "metadata": {
    "collapsed": true
   },
   "outputs": [],
   "source": [
    "mne_events, mapp = mneprep.load_events(path_events, FREQUENCY)"
   ]
  }
 ],
 "metadata": {
  "anaconda-cloud": {},
  "kernelspec": {
   "display_name": "Python [conda root]",
   "language": "python",
   "name": "conda-root-py"
  },
  "language_info": {
   "codemirror_mode": {
    "name": "ipython",
    "version": 3
   },
   "file_extension": ".py",
   "mimetype": "text/x-python",
   "name": "python",
   "nbconvert_exporter": "python",
   "pygments_lexer": "ipython3",
   "version": "3.5.1"
  }
 },
 "nbformat": 4,
 "nbformat_minor": 0
}
